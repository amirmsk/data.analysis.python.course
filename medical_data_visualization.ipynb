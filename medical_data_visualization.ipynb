{
  "nbformat": 4,
  "nbformat_minor": 0,
  "metadata": {
    "colab": {
      "provenance": [],
      "authorship_tag": "ABX9TyO3RwZogyrAuFSBx2838M/p",
      "include_colab_link": true
    },
    "kernelspec": {
      "name": "python3",
      "display_name": "Python 3"
    },
    "language_info": {
      "name": "python"
    }
  },
  "cells": [
    {
      "cell_type": "markdown",
      "metadata": {
        "id": "view-in-github",
        "colab_type": "text"
      },
      "source": [
        "<a href=\"https://colab.research.google.com/github/amirmsk/data.analysis.python.course/blob/main/medical_data_visualization.ipynb\" target=\"_parent\"><img src=\"https://colab.research.google.com/assets/colab-badge.svg\" alt=\"Open In Colab\"/></a>"
      ]
    },
    {
      "cell_type": "code",
      "source": [
        "import pandas as pd\n",
        "\n",
        "# Load the medical examination dataset\n",
        "df = pd.read_csv('medical_examination.csv')\n"
      ],
      "metadata": {
        "id": "I_3L5PLVtWB8"
      },
      "execution_count": null,
      "outputs": []
    },
    {
      "cell_type": "code",
      "source": [
        "# Calculate BMI\n",
        "df['bmi'] = df['weight'] / df['height'] ** 2\n",
        "\n",
        "# Determine if a person is overweight\n",
        "df['overweight'] = df['bmi'] > 25\n",
        "\n",
        "# Convert overweight to a binary variable\n",
        "df['overweight'] = df['overweight'].astype('int')\n"
      ],
      "metadata": {
        "id": "oYEZurza-Tn5"
      },
      "execution_count": null,
      "outputs": []
    },
    {
      "cell_type": "code",
      "source": [
        "# Normalize cholesterol\n",
        "df['cholesterol'] = df['cholesterol'].apply(lambda x: 0 if x == 1 else 1)\n",
        "\n",
        "# Normalize glucose\n",
        "df['glucose'] = df['glucose'].apply(lambda x: 0 if x == 1 else 1)\n"
      ],
      "metadata": {
        "id": "04Vq6ZWu-W1b"
      },
      "execution_count": null,
      "outputs": []
    },
    {
      "cell_type": "code",
      "source": [
        "# Create a list of categorical features\n",
        "categorical_features = ['cholesterol', 'glucose', 'alcohol', 'active', 'smoke']\n",
        "\n",
        "# Convert the data into long format\n",
        "long_df = df.melt(id_vars='Cardio', value_vars=categorical_features)\n",
        "\n",
        "# Create a chart using seaborn's catplot()\n",
        "import seaborn as sns\n",
        "\n",
        "sns.catplot(x='variable', y='value', hue='Cardio', data=long_df, kind='count')\n"
      ],
      "metadata": {
        "id": "jt0GFpcF-ZlN"
      },
      "execution_count": null,
      "outputs": []
    },
    {
      "cell_type": "code",
      "source": [
        "# Filter out patients with diastolic pressure higher than systolic pressure\n",
        "df = df[(df['ap_lo'] <= df['ap_hi'])]\n",
        "\n",
        "# Filter out patients with height less than the 2.5th percentile\n",
        "df = df[(df['height'] >= df['height'].quantile(0.025))]\n",
        "\n",
        "# Filter out patients with height more than the 97.5th percentile\n",
        "df = df[(df['height'] <= df['height'].quantile(0.975))]\n",
        "\n",
        "# Filter out patients with weight less than the 2.5th percentile\n",
        "df = df[(df['weight'] >= df['weight'].quantile(0.025))]\n",
        "\n",
        "# Filter out patients with weight more than the 97.5th percentile\n",
        "df = df[(df['weight'] <= df['weight'].quantile(0.975))]\n"
      ],
      "metadata": {
        "id": "TNzDVFaK-cFp"
      },
      "execution_count": null,
      "outputs": []
    },
    {
      "cell_type": "code",
      "source": [
        "import numpy as np\n",
        "\n",
        "# Calculate the correlation matrix\n",
        "corr_matrix = np.corrcoef(df.drop(['Cardio'], axis=1))\n",
        "\n",
        "# Plot the correlation matrix using seaborn's heatmap()\n",
        "sns.heatmap(corr_matrix, mask=np.triu(np.ones_like(corr_matrix)))\n"
      ],
      "metadata": {
        "id": "3cymICvs-epD"
      },
      "execution_count": null,
      "outputs": []
    },
    {
      "cell_type": "code",
      "source": [
        "import numpy as np\n",
        "\n",
        "# Get a list of all variables in the DataFrame\n",
        "variables = df.columns.tolist()\n",
        "\n",
        "# Check if any variables are set to None\n",
        "for variable in variables:\n",
        "    if np.isnan(df[variable].mean()):\n",
        "        print(variable)\n"
      ],
      "metadata": {
        "id": "PBpIo7ko-hEw"
      },
      "execution_count": null,
      "outputs": []
    }
  ]
}