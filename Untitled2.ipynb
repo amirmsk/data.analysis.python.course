{
  "nbformat": 4,
  "nbformat_minor": 0,
  "metadata": {
    "colab": {
      "provenance": [],
      "authorship_tag": "ABX9TyPVDWXlaSzlI4w/j1AZOW6P",
      "include_colab_link": true
    },
    "kernelspec": {
      "name": "python3",
      "display_name": "Python 3"
    },
    "language_info": {
      "name": "python"
    }
  },
  "cells": [
    {
      "cell_type": "markdown",
      "metadata": {
        "id": "view-in-github",
        "colab_type": "text"
      },
      "source": [
        "<a href=\"https://colab.research.google.com/github/amirmsk/data.analysis.python.course/blob/main/Untitled2.ipynb\" target=\"_parent\"><img src=\"https://colab.research.google.com/assets/colab-badge.svg\" alt=\"Open In Colab\"/></a>"
      ]
    },
    {
      "cell_type": "code",
      "source": [
        "pip install pandas"
      ],
      "metadata": {
        "id": "IePtwNNEDwAZ"
      },
      "execution_count": null,
      "outputs": []
    },
    {
      "cell_type": "code",
      "source": [
        "import numpy as np"
      ],
      "metadata": {
        "id": "6g2uF6-sEeje"
      },
      "execution_count": 8,
      "outputs": []
    },
    {
      "cell_type": "code",
      "source": [
        "pip install numpy"
      ],
      "metadata": {
        "colab": {
          "base_uri": "https://localhost:8080/"
        },
        "id": "BpFK1HPJEQSX",
        "outputId": "ce9014ba-53dc-454c-9a14-9915a9234e28"
      },
      "execution_count": 5,
      "outputs": [
        {
          "output_type": "stream",
          "name": "stdout",
          "text": [
            "Requirement already satisfied: numpy in /usr/local/lib/python3.10/dist-packages (1.23.5)\n"
          ]
        }
      ]
    },
    {
      "cell_type": "code",
      "source": [
        "import pandas as pd"
      ],
      "metadata": {
        "id": "sQ-t8M3eEgH0"
      },
      "execution_count": 10,
      "outputs": []
    },
    {
      "cell_type": "code",
      "execution_count": null,
      "metadata": {
        "id": "pgAHvzJg_ymN"
      },
      "outputs": [],
      "source": [
        "\n",
        "# Load the dataset into a Pandas DataFrame\n",
        "data = pd.read_csv(\"sample_dataset.csv\") # Replace \"your_dataset.csv\" with the actual file path\n",
        "\n",
        "# Task 1: Count the number of people of each race\n",
        "race_counts = data['race'].value_counts()\n",
        "\n",
        "# Task 2: Calculate the average age of men\n",
        "average_age_men = data[data['sex'] == 'Male']['age'].mean()\n",
        "\n",
        "# Task 3: Calculate the percentage of people with a Bachelor's degree\n",
        "percentage_bachelors = (data['education'] == 'Bachelors').mean() * 100\n",
        "\n",
        "# Task 4: Calculate the percentage of people with advanced education (> Bachelors) making more than 50K\n",
        "advanced_education = data['education'].isin(['Bachelors', 'Masters', 'Doctorate'])\n",
        "percentage_high_earning = (data[advanced_education]['salary'] == '>50K').mean() * 100\n",
        "\n",
        "# Task 5: Calculate the percentage of people without advanced education making more than 50K\n",
        "percentage_low_education = (data[~advanced_education]['salary'] == '>50K').mean() * 100\n",
        "\n",
        "# Task 6: Find the minimum number of hours a person works per week\n",
        "min_work_hours = data['hours-per-week'].min()\n",
        "\n",
        "# Task 7: Calculate the percentage of people working the minimum hours and earning > 50K\n",
        "num_min_workers = data[data['hours-per-week'] == min_work_hours]\n",
        "percentage_min_workers_high_earning = (num_min_workers['salary'] == '>50K').mean() * 100\n",
        "\n",
        "# Task 8: Find the country with the highest percentage of people earning >50K\n",
        "country_stats = data.groupby('native-country')['salary'].apply(lambda x: (x == '>50K').mean() * 100)\n",
        "highest_earning_country = country_stats.idxmax()\n",
        "highest_earning_country_percentage = country_stats.max()\n",
        "\n",
        "# Task 9: Identify the most popular occupation for those earning > 50K in India\n",
        "indian_occupation_stats = data[(data['native-country'] == 'India') & (data['salary'] == '>50K')]['occupation'].value_counts().idxmax()\n",
        "\n",
        "# Print the results\n",
        "print(\"Task 1: Number of people of each race:\\n\", race_counts)\n",
        "print(\"\\nTask 2: Average age of men:\", round(average_age_men, 1))\n",
        "print(\"\\nTask 3: Percentage with Bachelor's degree:\", round(percentage_bachelors, 1))\n",
        "print(\"\\nTask 4: Percentage with advanced education earning >50K:\", round(percentage_high_earning, 1))\n",
        "print(\"\\nTask 5: Percentage without advanced education earning >50K:\", round(percentage_low_education, 1))\n",
        "print(\"\\nTask 6: Minimum work hours per week:\", min_work_hours)\n",
        "print(\"\\nTask 7: Percentage of minimum work hours group earning >50K:\", round(percentage_min_workers_high_earning, 1))\n",
        "print(\"\\nTask 8: Country with highest percentage of earners >50K:\", highest_earning_country)\n",
        "print(\"Percentage:\", round(highest_earning_country_percentage, 1))\n",
        "print(\"\\nTask 9: Most popular occupation in India for earners >50K:\", indian_occupation_stats)\n"
      ]
    }
  ]
}