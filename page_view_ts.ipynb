{
  "nbformat": 4,
  "nbformat_minor": 0,
  "metadata": {
    "colab": {
      "provenance": [],
      "authorship_tag": "ABX9TyNxtT/IjlKCjXxoTDf861R9",
      "include_colab_link": true
    },
    "kernelspec": {
      "name": "python3",
      "display_name": "Python 3"
    },
    "language_info": {
      "name": "python"
    }
  },
  "cells": [
    {
      "cell_type": "markdown",
      "metadata": {
        "id": "view-in-github",
        "colab_type": "text"
      },
      "source": [
        "<a href=\"https://colab.research.google.com/github/amirmsk/data.analysis.python.course/blob/main/page_view_ts.ipynb\" target=\"_parent\"><img src=\"https://colab.research.google.com/assets/colab-badge.svg\" alt=\"Open In Colab\"/></a>"
      ]
    },
    {
      "cell_type": "code",
      "source": [
        "import matplotlib.pyplot as plt\n",
        "\n",
        "def draw_line_plot(df):\n",
        "  \"\"\"Draws a line chart of the daily freeCodeCamp forum page views from 2016-05-09 to 2019-12-03.\n",
        "\n",
        "  Args:\n",
        "    df: A Pandas DataFrame containing the page view data.\n",
        "\n",
        "  Returns:\n",
        "    None.\n",
        "  \"\"\"\n",
        "\n",
        "  # Create a copy of the data frame.\n",
        "  df_copy = df.copy()\n",
        "\n",
        "  # Clean the data.\n",
        "  df_copy = df_copy.loc[(df_copy['page_views'] > df_copy['page_views'].quantile(0.025)) &\n",
        "                        (df_copy['page_views'] < df_copy['page_views'].quantile(0.975))]\n",
        "\n",
        "  # Create the line plot.\n",
        "  plt.figure(figsize=(10, 6))\n",
        "  plt.plot(df_copy['date'], df_copy['page_views'])\n",
        "\n",
        "  # Set the title and axis labels.\n",
        "  plt.title('Daily freeCodeCamp Forum Page Views 5/2016-12/2019')\n",
        "  plt.xlabel('Date')\n",
        "  plt.ylabel('Page Views')\n",
        "\n",
        "  # Show the plot.\n",
        "  plt.show()\n"
      ],
      "metadata": {
        "id": "cdceHzULD7TZ"
      },
      "execution_count": null,
      "outputs": []
    }
  ]
}